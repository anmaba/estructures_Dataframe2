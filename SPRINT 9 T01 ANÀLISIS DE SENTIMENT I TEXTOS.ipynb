{
 "cells": [
  {
   "cell_type": "markdown",
   "id": "1b3b6ace",
   "metadata": {},
   "source": [
    "# SPRINT 9 T01: ANÀLISIS DE SENTIMENT I TEXTOS\n",
    "\n",
    "Descripció\n",
    "\n",
    "Exercicis d'anàlisi de sentiment i textos.\n",
    "\n",
    "## EXERCICI 1\n",
    "Agafa un text en anglès que vulguis, i calcula'n la freqüència de les paraules.\n"
   ]
  },
  {
   "cell_type": "code",
   "execution_count": 1,
   "id": "c02ab179",
   "metadata": {
    "ExecuteTime": {
     "end_time": "2022-09-06T09:22:28.439499Z",
     "start_time": "2022-09-06T09:22:09.903814Z"
    }
   },
   "outputs": [],
   "source": [
    "# Després d'instal·lar el paquet necessari, el cridem juntament amb altres llibreries (no vol dir que les fem servir totes)\n",
    "\n",
    "import pandas as pd\n",
    "import numpy as np\n",
    "import sklearn\n",
    "import matplotlib.pyplot as plt\n",
    "import seaborn as sns\n",
    "import warnings\n",
    "import nltk"
   ]
  },
  {
   "cell_type": "code",
   "execution_count": 2,
   "id": "71565ae9",
   "metadata": {
    "ExecuteTime": {
     "end_time": "2022-09-06T09:22:30.187692Z",
     "start_time": "2022-09-06T09:22:28.441490Z"
    }
   },
   "outputs": [
    {
     "name": "stdout",
     "output_type": "stream",
     "text": [
      "<class 'str'>\n",
      "480429\n",
      "﻿The Project Gutenberg eBook of Twenty tales by twenty women, by\r\n",
      "Anonymous\n"
     ]
    }
   ],
   "source": [
    "#Importo un llibre en anglès d'una pàgina que permet llegir-los en format txt\n",
    "\n",
    "from urllib import request\n",
    "text = \"https://www.gutenberg.org/files/68894/68894-0.txt\"\n",
    "response = request.urlopen(text)\n",
    "rawText = response.read().decode('utf8')\n",
    "print(type(rawText))\n",
    "print(len(rawText))\n",
    "print(rawText[:75])"
   ]
  },
  {
   "cell_type": "markdown",
   "id": "45e2728d",
   "metadata": {},
   "source": [
    "El tipus ens diu que l'arxiu és de tipus str, la longitud és de 480.429 caràcters i imprimim els primers 75. A partir d'ara treballarem amb l'arxiu rawText ja que és el més \"nu\" possible i que ens permetrà treure'n informació"
   ]
  },
  {
   "cell_type": "code",
   "execution_count": 3,
   "id": "cd9c77cf",
   "metadata": {
    "ExecuteTime": {
     "end_time": "2022-09-06T09:22:30.434036Z",
     "start_time": "2022-09-06T09:22:30.189821Z"
    }
   },
   "outputs": [
    {
     "name": "stdout",
     "output_type": "stream",
     "text": [
      "<class 'list'>\n",
      "3693\n",
      "['\\ufeffThe Project Gutenberg eBook of Twenty tales by twenty women, by\\r\\nAnonymous\\r\\n\\r\\nThis eBook is for the use of anyone anywhere in the United States and\\r\\nmost other parts of the world at no cost and with almost no restrictions\\r\\nwhatsoever.', 'You may copy it, give it away or re-use it under the terms\\r\\nof the Project Gutenberg License included with this eBook or online at\\r\\nwww.gutenberg.org.', 'If you are not located in the United States, you\\r\\nwill have to check the laws of the country where you are located before\\r\\nusing this eBook.', 'Title: Twenty tales by twenty women\\r\\n       From real life in Chicago\\r\\n\\r\\nAuthor: Anonymous\\r\\n\\r\\nRelease Date: September 1, 2022 [eBook #68894]\\r\\n\\r\\nLanguage: English\\r\\n\\r\\nProduced by: MFR and the Online Distributed Proofreading Team at\\r\\n             https://www.pgdp.net (This file was produced from images\\r\\n             generously made available by The Internet Archive)\\r\\n\\r\\n*** START OF THE PROJECT GUTENBERG EBOOK TWENTY TALES BY TWENTY\\r\\nWOMEN ***\\r\\n\\r\\n\\r\\n\\r\\n\\r\\n\\r\\n\\r\\n                               TWENTY TALES\\r\\n                                    BY\\r\\n                               Twenty Women\\r\\n\\r\\n                        From Real Life in Chicago\\r\\n\\r\\n                                ANONYMOUS\\r\\n                           ALL RIGHTS RESERVED\\r\\n\\r\\n                              FOR SALE ONLY\\r\\n                                    BY\\r\\n                          NOVELTY PUBLISHING CO.\\r\\n                              CHICAGO, ILL.', 'COPYRIGHT, 1903\\r\\n                                    BY\\r\\n                          NOVELTY PUBLISHING CO.']\n"
     ]
    }
   ],
   "source": [
    "# Tranquem el text en frases utilitzant tokenization\n",
    "from nltk.tokenize import sent_tokenize\n",
    "tokenFrase = sent_tokenize(rawText)\n",
    "print(type(tokenFrase))\n",
    "print(len(tokenFrase))\n",
    "print(tokenFrase[:5])"
   ]
  },
  {
   "cell_type": "code",
   "execution_count": 4,
   "id": "084495e9",
   "metadata": {
    "ExecuteTime": {
     "end_time": "2022-09-06T09:22:31.266516Z",
     "start_time": "2022-09-06T09:22:30.437026Z"
    }
   },
   "outputs": [
    {
     "name": "stdout",
     "output_type": "stream",
     "text": [
      "<class 'list'>\n",
      "103523\n",
      "['\\ufeffThe', 'Project', 'Gutenberg', 'eBook', 'of', 'Twenty', 'tales', 'by', 'twenty', 'women', ',', 'by', 'Anonymous', 'This', 'eBook', 'is', 'for', 'the', 'use', 'of']\n"
     ]
    }
   ],
   "source": [
    "# Tranquem el text en paraules utilitzant tokenization\n",
    "from nltk.tokenize import word_tokenize\n",
    "tokenParaules = word_tokenize(rawText)\n",
    "print(type(tokenParaules))\n",
    "print(len(tokenParaules))\n",
    "print(tokenParaules[:20])"
   ]
  },
  {
   "cell_type": "code",
   "execution_count": 5,
   "id": "f1a485ee",
   "metadata": {
    "ExecuteTime": {
     "end_time": "2022-09-06T09:22:31.357988Z",
     "start_time": "2022-09-06T09:22:31.268627Z"
    }
   },
   "outputs": [
    {
     "name": "stdout",
     "output_type": "stream",
     "text": [
      "<FreqDist with 8877 samples and 103523 outcomes>\n"
     ]
    }
   ],
   "source": [
    "# Calculo la freqüència amb la que surten les paraules\n",
    "from nltk.probability import FreqDist\n",
    "frequencia = FreqDist(tokenParaules)\n",
    "print(frequencia)\n"
   ]
  },
  {
   "cell_type": "code",
   "execution_count": 6,
   "id": "9a2c0306",
   "metadata": {
    "ExecuteTime": {
     "end_time": "2022-09-06T09:22:31.373135Z",
     "start_time": "2022-09-06T09:22:31.359990Z"
    }
   },
   "outputs": [
    {
     "data": {
      "text/plain": [
       "[(',', 5726),\n",
       " ('the', 3935),\n",
       " ('I', 3611),\n",
       " ('.', 3488),\n",
       " ('to', 2906),\n",
       " ('and', 2715),\n",
       " ('of', 2266),\n",
       " ('a', 1817),\n",
       " ('was', 1672),\n",
       " ('“', 1351)]"
      ]
     },
     "execution_count": 6,
     "metadata": {},
     "output_type": "execute_result"
    }
   ],
   "source": [
    "# Calculo les que es repeteixen més i quantes vegades\n",
    "frequencia.most_common(10)"
   ]
  },
  {
   "cell_type": "code",
   "execution_count": 7,
   "id": "ebafc062",
   "metadata": {
    "ExecuteTime": {
     "end_time": "2022-09-06T09:22:31.727338Z",
     "start_time": "2022-09-06T09:22:31.375133Z"
    }
   },
   "outputs": [
    {
     "data": {
      "image/png": "[encoded data removed]",
      "text/plain": [
       "<Figure size 504x360 with 1 Axes>"
      ]
     },
     "metadata": {
      "needs_background": "light"
     },
     "output_type": "display_data"
    }
   ],
   "source": [
    "# Faig el gràfic\n",
    "plt.figure(figsize=(7,5))\n",
    "frequencia.plot(20,cumulative=False)\n",
    "plt.show()"
   ]
  },
  {
   "cell_type": "markdown",
   "id": "82982e30",
   "metadata": {},
   "source": [
    "\n",
    "\n",
    "## EXERCICI 2\n",
    "Treu les stopwords i realitza stemming al teu conjunt de dades.\n"
   ]
  },
  {
   "cell_type": "code",
   "execution_count": 8,
   "id": "f6f2692f",
   "metadata": {
    "ExecuteTime": {
     "end_time": "2022-09-06T09:22:31.742122Z",
     "start_time": "2022-09-06T09:22:31.729531Z"
    }
   },
   "outputs": [
    {
     "name": "stdout",
     "output_type": "stream",
     "text": [
      "{\"you'll\", 'have', 'aren', \"she's\", 'had', 'against', 'her', 'how', 'other', 'ain', \"shouldn't\", 'my', 'between', 'own', 're', 'what', 'before', 'any', 'by', 'their', \"hadn't\", 'in', 'has', 'i', 'only', 'does', 'out', \"aren't\", 'didn', \"mightn't\", 'your', 'for', 'hasn', \"didn't\", 'him', 've', \"hasn't\", 'who', 'can', 'so', \"wasn't\", 'why', 'mightn', 'll', 'himself', \"doesn't\", \"should've\", 'where', 'haven', 'isn', 'once', 'doesn', 'themselves', 'should', 'theirs', 'itself', 'these', \"needn't\", 'weren', 'a', 'they', 'am', 'but', 'being', 'do', 'is', 'this', 'over', 'just', 'yourself', \"mustn't\", 'ma', 'up', 'further', 'not', 'if', 'o', 'been', 'couldn', 'no', 'or', 'which', 'nor', 'are', 'of', 'during', 'was', 'while', 'off', 'we', 'each', 'mustn', \"it's\", 'through', \"don't\", 'doing', 'all', 'he', 'down', 's', 'from', 'hadn', 'them', 'below', 't', 'with', 'shouldn', 'its', 'both', 'hers', 'needn', 'his', 'ourselves', \"that'll\", 'about', 'here', \"you'd\", 'ours', \"isn't\", 'did', 'yours', 'again', 'now', 'you', 'yourselves', 'shan', 'into', 'our', 'd', 'few', 'wouldn', \"wouldn't\", 'then', 'and', 'there', 'to', 'y', 'because', \"couldn't\", 'on', 'won', 'as', 'the', 'that', 'above', 'm', 'don', 'after', \"haven't\", 'at', 'having', 'me', 'she', \"won't\", 'some', 'when', 'it', \"you've\", 'wasn', \"you're\", \"weren't\", 'than', 'until', 'very', 'too', 'under', 'herself', 'those', 'were', 'will', 'myself', 'an', \"shan't\", 'more', 'same', 'such', 'most', 'be', 'whom'}\n"
     ]
    }
   ],
   "source": [
    "# Imprimeixo els stopwords, o paraules que no tenen molta importància dins un text i que no ens són tant rellevants\n",
    "from nltk.corpus import stopwords\n",
    "stop_words=set(stopwords.words(\"english\"))\n",
    "print(stop_words)"
   ]
  },
  {
   "cell_type": "code",
   "execution_count": 9,
   "id": "72d3aca3",
   "metadata": {
    "ExecuteTime": {
     "end_time": "2022-09-06T09:22:31.772662Z",
     "start_time": "2022-09-06T09:22:31.744120Z"
    }
   },
   "outputs": [
    {
     "name": "stdout",
     "output_type": "stream",
     "text": [
      "Text amb stopwords: ['\\ufeffThe', 'Project', 'Gutenberg', 'eBook', 'of', 'Twenty', 'tales', 'by', 'twenty', 'women', ',', 'by', 'Anonymous', 'This', 'eBook', 'is', 'for', 'the', 'use', 'of', 'anyone', 'anywhere', 'in', 'the', 'United', 'States', 'and', 'most', 'other', 'parts', 'of', 'the', 'world', 'at', 'no', 'cost', 'and', 'with', 'almost', 'no', 'restrictions', 'whatsoever', '.', 'You', 'may', 'copy', 'it', ',', 'give', 'it', 'away', 'or', 're-use', 'it', 'under', 'the', 'terms', 'of', 'the', 'Project', 'Gutenberg', 'License', 'included', 'with', 'this', 'eBook', 'or', 'online', 'at', 'www.gutenberg.org', '.', 'If', 'you', 'are', 'not', 'located', 'in', 'the', 'United', 'States', ',', 'you', 'will', 'have', 'to', 'check', 'the', 'laws', 'of', 'the', 'country', 'where', 'you', 'are', 'located', 'before', 'using', 'this', 'eBook', '.', 'Title', ':', 'Twenty', 'tales', 'by', 'twenty', 'women', 'From', 'real', 'life', 'in', 'Chicago', 'Author', ':', 'Anonymous', 'Release', 'Date', ':', 'September', '1', ',', '2022', '[', 'eBook', '#', '68894', ']', 'Language', ':', 'English', 'Produced', 'by', ':', 'MFR', 'and', 'the', 'Online', 'Distributed', 'Proofreading', 'Team', 'at', 'https', ':', '//www.pgdp.net', '(', 'This', 'file', 'was', 'produced', 'from', 'images', 'generously', 'made', 'available', 'by', 'The', 'Internet', 'Archive', ')', '*', '*', '*', 'START', 'OF', 'THE', 'PROJECT', 'GUTENBERG', 'EBOOK', 'TWENTY', 'TALES', 'BY', 'TWENTY', 'WOMEN', '*', '*', '*', 'TWENTY', 'TALES', 'BY', 'Twenty', 'Women', 'From', 'Real', 'Life', 'in', 'Chicago', 'ANONYMOUS', 'ALL', 'RIGHTS', 'RESERVED', 'FOR', 'SALE', 'ONLY', 'BY', 'NOVELTY', 'PUBLISHING', 'CO.', 'CHICAGO', ',', 'ILL']\n",
      "_______________________________________\n",
      "Text sense stopwords: ['\\ufeffThe', 'Project', 'Gutenberg', 'eBook', 'Twenty', 'tales', 'twenty', 'women', ',', 'Anonymous', 'This', 'eBook', 'use', 'anyone', 'anywhere', 'United', 'States', 'parts', 'world', 'cost', 'almost', 'restrictions', 'whatsoever', '.', 'You', 'may', 'copy', ',', 'give', 'away', 're-use', 'terms', 'Project', 'Gutenberg', 'License', 'included', 'eBook', 'online', 'www.gutenberg.org', '.', 'If', 'located', 'United', 'States', ',', 'check', 'laws', 'country', 'located', 'using', 'eBook', '.', 'Title', ':', 'Twenty', 'tales', 'twenty', 'women', 'From', 'real', 'life', 'Chicago', 'Author', ':', 'Anonymous', 'Release', 'Date', ':', 'September', '1', ',', '2022', '[', 'eBook', '#', '68894', ']', 'Language', ':', 'English', 'Produced', ':', 'MFR', 'Online', 'Distributed', 'Proofreading', 'Team', 'https', ':', '//www.pgdp.net', '(', 'This', 'file', 'produced', 'images', 'generously', 'made', 'available', 'The', 'Internet', 'Archive', ')', '*', '*', '*', 'START', 'OF', 'THE', 'PROJECT', 'GUTENBERG', 'EBOOK', 'TWENTY', 'TALES', 'BY', 'TWENTY', 'WOMEN', '*', '*', '*', 'TWENTY', 'TALES', 'BY', 'Twenty', 'Women', 'From', 'Real', 'Life', 'Chicago', 'ANONYMOUS', 'ALL', 'RIGHTS', 'RESERVED', 'FOR', 'SALE', 'ONLY', 'BY', 'NOVELTY', 'PUBLISHING', 'CO.', 'CHICAGO', ',', 'ILL', '.', 'COPYRIGHT', ',', '1903', 'BY', 'NOVELTY', 'PUBLISHING', 'CO', '.', 'CONTENTS', '.', 'PAGE', 'PREFACE', '3', 'INTRODUCTION', '5', 'A', 'WOMAN', '’', 'S', 'ANGUISH', '13', 'TALE', 'ONE—The', 'Diary', 'Chicago', 'Girl', '17', 'TALE', 'TWO—The', 'Life', 'Story', 'Southern', 'Widow', '33', 'TALE', 'THREE—A', 'Story', 'Chicago', 'Ghetto', '53', 'TALE', 'FOUR—A', 'Woman', 'Thirty-eight', '71', 'TALE', 'FIVE—A', 'Forecast', '89', 'TALE', 'SIX—A', 'Daughter', 'Proud', 'Kentucky', '103', 'TALE', 'SEVEN—My']\n"
     ]
    }
   ],
   "source": [
    "# Elimino els stopwords del meu text\n",
    "textFiltrat=[]\n",
    "for w in tokenParaules:\n",
    "    if w not in stop_words:\n",
    "        textFiltrat.append(w)\n",
    "print (\"Text amb stopwords:\", tokenParaules[:200])\n",
    "print(\"_______________________________________\")\n",
    "print(\"Text sense stopwords:\",textFiltrat[:200])"
   ]
  },
  {
   "cell_type": "code",
   "execution_count": 10,
   "id": "34f38270",
   "metadata": {
    "ExecuteTime": {
     "end_time": "2022-09-06T09:22:31.803376Z",
     "start_time": "2022-09-06T09:22:31.778847Z"
    }
   },
   "outputs": [
    {
     "name": "stdout",
     "output_type": "stream",
     "text": [
      "Text sense filtrar = 103523 paraules\n",
      "Text filtrat = 60542 paraules\n"
     ]
    }
   ],
   "source": [
    "# Per veure més la diferènica, imprimeixo el tamany dels dos textos per veure si ha canviat molt o no\n",
    "print(\"Text sense filtrar =\", len(tokenParaules), \"paraules\")\n",
    "print(\"Text filtrat =\", len(textFiltrat), \"paraules\")"
   ]
  },
  {
   "cell_type": "code",
   "execution_count": 11,
   "id": "fc75a351",
   "metadata": {
    "ExecuteTime": {
     "end_time": "2022-09-06T09:22:33.110154Z",
     "start_time": "2022-09-06T09:22:31.805356Z"
    }
   },
   "outputs": [
    {
     "name": "stdout",
     "output_type": "stream",
     "text": [
      "Text sense stemming: ['\\ufeffThe', 'Project', 'Gutenberg', 'eBook', 'Twenty', 'tales', 'twenty', 'women', ',', 'Anonymous', 'This', 'eBook', 'use', 'anyone', 'anywhere', 'United', 'States', 'parts', 'world', 'cost', 'almost', 'restrictions', 'whatsoever', '.', 'You', 'may', 'copy', ',', 'give', 'away', 're-use', 'terms', 'Project', 'Gutenberg', 'License', 'included', 'eBook', 'online', 'www.gutenberg.org', '.', 'If', 'located', 'United', 'States', ',', 'check', 'laws', 'country', 'located', 'using', 'eBook', '.', 'Title', ':', 'Twenty', 'tales', 'twenty', 'women', 'From', 'real', 'life', 'Chicago', 'Author', ':', 'Anonymous', 'Release', 'Date', ':', 'September', '1', ',', '2022', '[', 'eBook', '#', '68894', ']', 'Language', ':', 'English', 'Produced', ':', 'MFR', 'Online', 'Distributed', 'Proofreading', 'Team', 'https', ':', '//www.pgdp.net', '(', 'This', 'file', 'produced', 'images', 'generously', 'made', 'available', 'The', 'Internet', 'Archive', ')', '*', '*', '*', 'START', 'OF', 'THE', 'PROJECT', 'GUTENBERG', 'EBOOK', 'TWENTY', 'TALES', 'BY', 'TWENTY', 'WOMEN', '*', '*', '*', 'TWENTY', 'TALES', 'BY', 'Twenty', 'Women', 'From', 'Real', 'Life', 'Chicago', 'ANONYMOUS', 'ALL', 'RIGHTS', 'RESERVED', 'FOR', 'SALE', 'ONLY', 'BY', 'NOVELTY', 'PUBLISHING', 'CO.', 'CHICAGO', ',', 'ILL', '.', 'COPYRIGHT', ',', '1903', 'BY', 'NOVELTY', 'PUBLISHING', 'CO', '.', 'CONTENTS', '.', 'PAGE', 'PREFACE', '3', 'INTRODUCTION', '5', 'A', 'WOMAN', '’', 'S', 'ANGUISH', '13', 'TALE', 'ONE—The', 'Diary', 'Chicago', 'Girl', '17', 'TALE', 'TWO—The', 'Life', 'Story', 'Southern', 'Widow', '33', 'TALE', 'THREE—A', 'Story', 'Chicago', 'Ghetto', '53', 'TALE', 'FOUR—A', 'Woman', 'Thirty-eight', '71', 'TALE', 'FIVE—A', 'Forecast', '89', 'TALE', 'SIX—A', 'Daughter', 'Proud', 'Kentucky', '103', 'TALE', 'SEVEN—My']\n",
      "_______________________________________\n",
      "Text amb stemming: ['\\ufeffthe', 'project', 'gutenberg', 'ebook', 'twenti', 'tale', 'twenti', 'women', ',', 'anonym', 'thi', 'ebook', 'use', 'anyon', 'anywher', 'unit', 'state', 'part', 'world', 'cost', 'almost', 'restrict', 'whatsoev', '.', 'you', 'may', 'copi', ',', 'give', 'away', 're-us', 'term', 'project', 'gutenberg', 'licens', 'includ', 'ebook', 'onlin', 'www.gutenberg.org', '.', 'if', 'locat', 'unit', 'state', ',', 'check', 'law', 'countri', 'locat', 'use', 'ebook', '.', 'titl', ':', 'twenti', 'tale', 'twenti', 'women', 'from', 'real', 'life', 'chicago', 'author', ':', 'anonym', 'releas', 'date', ':', 'septemb', '1', ',', '2022', '[', 'ebook', '#', '68894', ']', 'languag', ':', 'english', 'produc', ':', 'mfr', 'onlin', 'distribut', 'proofread', 'team', 'http', ':', '//www.pgdp.net', '(', 'thi', 'file', 'produc', 'imag', 'gener', 'made', 'avail', 'the', 'internet', 'archiv', ')', '*', '*', '*', 'start', 'of', 'the', 'project', 'gutenberg', 'ebook', 'twenti', 'tale', 'by', 'twenti', 'women', '*', '*', '*', 'twenti', 'tale', 'by', 'twenti', 'women', 'from', 'real', 'life', 'chicago', 'anonym', 'all', 'right', 'reserv', 'for', 'sale', 'onli', 'by', 'novelti', 'publish', 'co.', 'chicago', ',', 'ill', '.', 'copyright', ',', '1903', 'by', 'novelti', 'publish', 'co', '.', 'content', '.', 'page', 'prefac', '3', 'introduct', '5', 'a', 'woman', '’', 's', 'anguish', '13', 'tale', 'one—th', 'diari', 'chicago', 'girl', '17', 'tale', 'two—th', 'life', 'stori', 'southern', 'widow', '33', 'tale', 'three—a', 'stori', 'chicago', 'ghetto', '53', 'tale', 'four—a', 'woman', 'thirty-eight', '71', 'tale', 'five—a', 'forecast', '89', 'tale', 'six—a', 'daughter', 'proud', 'kentucki', '103', 'tale', 'seven—mi']\n"
     ]
    }
   ],
   "source": [
    "# Ara realitzaré stemming, que bàsicament vol dir reduir les paraules a la seva arrel primària\n",
    "from nltk.stem import PorterStemmer\n",
    "from nltk.tokenize import sent_tokenize, word_tokenize\n",
    "\n",
    "ps = PorterStemmer()\n",
    "\n",
    "textStemming=[]\n",
    "for w in textFiltrat:\n",
    "    textStemming.append(ps.stem(w))\n",
    "\n",
    "print(\"Text sense stemming:\",textFiltrat[:200])\n",
    "print(\"_______________________________________\")\n",
    "print(\"Text amb stemming:\",textStemming[:200])"
   ]
  },
  {
   "cell_type": "code",
   "execution_count": 12,
   "id": "379b4701",
   "metadata": {
    "ExecuteTime": {
     "end_time": "2022-09-06T09:22:33.125302Z",
     "start_time": "2022-09-06T09:22:33.112154Z"
    }
   },
   "outputs": [
    {
     "name": "stdout",
     "output_type": "stream",
     "text": [
      "Text sense stemming = 60542 paraules\n",
      "Text amb stemming = 60542 paraules\n"
     ]
    }
   ],
   "source": [
    "# Per veure més la diferènica, imprimeixo el tamany dels dos textos per veure si ha canviat molt o no\n",
    "print(\"Text sense stemming =\", len(textFiltrat), \"paraules\")\n",
    "print(\"Text amb stemming =\", len(textStemming), \"paraules\")"
   ]
  },
  {
   "cell_type": "markdown",
   "id": "1b720cd1",
   "metadata": {},
   "source": [
    "Veiem que hem aconseguit un text amb paraules principals, totes en minúscula i amb el format més bàsic (en aquest cas no hi ha hagut canvis). Un text que és molt més fàcil per treballar-lo i comparar-lo.\n",
    "Per últim, tornaré a fer el gràfic de quines són les paraules amb més freqüència per veure si han canviat o no"
   ]
  },
  {
   "cell_type": "code",
   "execution_count": 13,
   "id": "ed0d4d4a",
   "metadata": {
    "ExecuteTime": {
     "end_time": "2022-09-06T09:22:33.186994Z",
     "start_time": "2022-09-06T09:22:33.127304Z"
    }
   },
   "outputs": [
    {
     "name": "stdout",
     "output_type": "stream",
     "text": [
      "<FreqDist with 5874 samples and 60542 outcomes>\n"
     ]
    }
   ],
   "source": [
    "frequenciaStemming = FreqDist(textStemming)\n",
    "print(frequenciaStemming)"
   ]
  },
  {
   "cell_type": "code",
   "execution_count": 14,
   "id": "d3b77dc3",
   "metadata": {
    "ExecuteTime": {
     "end_time": "2022-09-06T09:22:33.202984Z",
     "start_time": "2022-09-06T09:22:33.188993Z"
    }
   },
   "outputs": [
    {
     "data": {
      "text/plain": [
       "[(',', 5726),\n",
       " ('i', 3611),\n",
       " ('.', 3488),\n",
       " ('“', 1351),\n",
       " ('’', 1082),\n",
       " (';', 631),\n",
       " ('‘', 525),\n",
       " ('”', 497),\n",
       " ('one', 387),\n",
       " ('would', 384)]"
      ]
     },
     "execution_count": 14,
     "metadata": {},
     "output_type": "execute_result"
    }
   ],
   "source": [
    "frequenciaStemming.most_common(10)"
   ]
  },
  {
   "cell_type": "code",
   "execution_count": 15,
   "id": "4f54a4fe",
   "metadata": {
    "ExecuteTime": {
     "end_time": "2022-09-06T09:22:33.659175Z",
     "start_time": "2022-09-06T09:22:33.205981Z"
    }
   },
   "outputs": [
    {
     "data": {
      "image/png": "[encoded data removed]",
      "text/plain": [
       "<Figure size 504x504 with 1 Axes>"
      ]
     },
     "metadata": {
      "needs_background": "light"
     },
     "output_type": "display_data"
    },
    {
     "data": {
      "image/png": "[encoded data removed]",
      "text/plain": [
       "<Figure size 504x504 with 1 Axes>"
      ]
     },
     "metadata": {
      "needs_background": "light"
     },
     "output_type": "display_data"
    }
   ],
   "source": [
    "# Faig el gràfic\n",
    "plt.figure(figsize=(7,7))\n",
    "frequencia.plot(20,cumulative=False)\n",
    "plt.figure(figsize=(7,7))\n",
    "frequenciaStemming.plot(20, cumulative=False)\n",
    "plt.show()"
   ]
  },
  {
   "cell_type": "markdown",
   "id": "31d30cc6",
   "metadata": {},
   "source": [
    "\n",
    "\n",
    "## EXERCICI 3\n",
    "Realitza sentiment analysis al teu conjunt de dades."
   ]
  },
  {
   "cell_type": "code",
   "execution_count": 19,
   "id": "761b0c61",
   "metadata": {
    "ExecuteTime": {
     "end_time": "2022-09-06T09:35:27.523630Z",
     "start_time": "2022-09-06T09:35:27.407460Z"
    }
   },
   "outputs": [],
   "source": [
    "# Instal·lo les llibreries necessàries\n",
    "from nltk.sentiment.vader import SentimentIntensityAnalyzer\n",
    "from nltk import sentiment\n",
    "from nltk import word_tokenize"
   ]
  },
  {
   "cell_type": "code",
   "execution_count": 20,
   "id": "8f9187b1",
   "metadata": {
    "ExecuteTime": {
     "end_time": "2022-09-06T09:35:56.475291Z",
     "start_time": "2022-09-06T09:35:56.440315Z"
    }
   },
   "outputs": [],
   "source": [
    "#Creo l'analitzador de sentiments\n",
    "analitzador = SentimentIntensityAnalyzer()"
   ]
  },
  {
   "cell_type": "code",
   "execution_count": 22,
   "id": "bda3fef3",
   "metadata": {
    "ExecuteTime": {
     "end_time": "2022-09-06T09:38:22.097265Z",
     "start_time": "2022-09-06T09:38:13.612891Z"
    }
   },
   "outputs": [
    {
     "name": "stdout",
     "output_type": "stream",
     "text": [
      "﻿The Project Gutenberg eBook of Twenty tales by twenty women, by\r\n",
      "Anonymous\r\n",
      "\r\n",
      "This eBook is for the use of anyone anywhere in the United States and\r\n",
      "most other parts of the world at no cost and with almost no restrictions\r\n",
      "whatsoever.\n",
      "neg :  0.097\n",
      "\n",
      "neu :  0.841\n",
      "\n",
      "pos :  0.062\n",
      "\n",
      "compound :  -0.1531\n",
      "\n",
      "You may copy it, give it away or re-use it under the terms\r\n",
      "of the Project Gutenberg License included with this eBook or online at\r\n",
      "www.gutenberg.org.\n",
      "neg :  0.0\n",
      "\n",
      "neu :  1.0\n",
      "\n",
      "pos :  0.0\n",
      "\n",
      "compound :  0.0\n",
      "\n",
      "If you are not located in the United States, you\r\n",
      "will have to check the laws of the country where you are located before\r\n",
      "using this eBook.\n",
      "neg :  0.0\n",
      "\n",
      "neu :  0.903\n",
      "\n",
      "pos :  0.097\n",
      "\n",
      "compound :  0.4215\n",
      "\n",
      "Title: Twenty tales by twenty women\r\n",
      "       From real life in Chicago\r\n",
      "\r\n",
      "Author: Anonymous\r\n",
      "\r\n",
      "Release Date: September 1, 2022 [eBook #68894]\r\n",
      "\r\n",
      "Language: English\r\n",
      "\r\n",
      "Produced by: MFR and the Online Distributed Proofreading Team at\r\n",
      "             https://www.pgdp.net (This file was produced from images\r\n",
      "             generously made available by The Internet Archive)\r\n",
      "\r\n",
      "*** START OF THE PROJECT GUTENBERG EBOOK TWENTY TALES BY TWENTY\r\n",
      "WOMEN ***\r\n",
      "\r\n",
      "\r\n",
      "\r\n",
      "\r\n",
      "\r\n",
      "\r\n",
      "                               TWENTY TALES\r\n",
      "                                    BY\r\n",
      "                               Twenty Women\r\n",
      "\r\n",
      "                        From Real Life in Chicago\r\n",
      "\r\n",
      "                                ANONYMOUS\r\n",
      "                           ALL RIGHTS RESERVED\r\n",
      "\r\n",
      "                              FOR SALE ONLY\r\n",
      "                                    BY\r\n",
      "                          NOVELTY PUBLISHING CO.\r\n",
      "                              CHICAGO, ILL.\n",
      "neg :  0.041\n",
      "\n",
      "neu :  0.927\n",
      "\n",
      "pos :  0.032\n",
      "\n",
      "compound :  -0.186\n",
      "\n",
      "COPYRIGHT, 1903\r\n",
      "                                    BY\r\n",
      "                          NOVELTY PUBLISHING CO.\n",
      "neg :  0.0\n",
      "\n",
      "neu :  1.0\n",
      "\n",
      "pos :  0.0\n",
      "\n",
      "compound :  0.0\n",
      "\n",
      "CONTENTS.\n",
      "neg :  0.0\n",
      "\n",
      "neu :  1.0\n",
      "\n",
      "pos :  0.0\n",
      "\n",
      "compound :  0.0\n",
      "\n",
      "PAGE\r\n",
      "\r\n",
      "    PREFACE                                                3\r\n",
      "\r\n",
      "    INTRODUCTION                                           5\r\n",
      "\r\n",
      "    A WOMAN’S ANGUISH                                     13\r\n",
      "\r\n",
      "    TALE ONE—The Diary of a Chicago Girl                  17\r\n",
      "\r\n",
      "    TALE TWO—The Life Story of a Southern Widow           33\r\n",
      "\r\n",
      "    TALE THREE—A Story of the Chicago Ghetto              53\r\n",
      "\r\n",
      "    TALE FOUR—A Woman of Thirty-eight                     71\r\n",
      "\r\n",
      "    TALE FIVE—A Forecast                                  89\r\n",
      "\r\n",
      "    TALE SIX—A Daughter of Proud Kentucky                103\r\n",
      "\r\n",
      "    TALE SEVEN—My Lover’s Bequest                        129\r\n",
      "\r\n",
      "    TALE EIGHT—The Victim of a Drug                      145\r\n",
      "\r\n",
      "    TALE NINE—What Happened to a Girl Who Flirted        163\r\n",
      "\r\n",
      "    TALE TEN—Sold at a Fixed Price                       173\r\n",
      "\r\n",
      "    TALE ELEVEN—A Story of Suicide Bridge                181\r\n",
      "\r\n",
      "    TALE TWELVE—Two Babes and Two Mothers                193\r\n",
      "\r\n",
      "    TALE THIRTEEN—Not Guilty                             205\r\n",
      "\r\n",
      "    TALE FOURTEEN—My Lover’s Daughter                    215\r\n",
      "\r\n",
      "    TALE FIFTEEN—As Told to a Clergyman                  221\r\n",
      "\r\n",
      "    TALE SIXTEEN—A Story of Stage Life                   231\r\n",
      "\r\n",
      "    TALE SEVENTEEN—A Trip Across the Lake                261\r\n",
      "\r\n",
      "    TALE EIGHTEEN—One Woman’s Way                        269\r\n",
      "\r\n",
      "    TALE NINETEEN—A Story of the Levee                   291\r\n",
      "\r\n",
      "    TALE TWENTY—A Scientific Phenomenon                  305\r\n",
      "\r\n",
      "\r\n",
      "\r\n",
      "\r\n",
      "PREFACE.\n",
      "neg :  0.106\n",
      "\n",
      "neu :  0.873\n",
      "\n",
      "pos :  0.021\n",
      "\n",
      "compound :  -0.9029\n",
      "\n",
      "“It may be weeds I’ve gathered, too;\r\n",
      "      But even weeds may be as fragrant,\r\n",
      "    With some sweet memory.\n",
      "neg :  0.0\n",
      "\n",
      "neu :  0.81\n",
      "\n",
      "pos :  0.19\n",
      "\n",
      "compound :  0.6124\n",
      "\n",
      "As the fairest flower.”\r\n",
      "\r\n",
      "\r\n",
      "Without apology this book goes forth.\n",
      "neg :  0.113\n",
      "\n",
      "neu :  0.887\n",
      "\n",
      "pos :  0.0\n",
      "\n",
      "compound :  -0.0382\n",
      "\n",
      "If it is productive of some good,\r\n",
      "it will have fulfilled its mission.\n",
      "neg :  0.0\n",
      "\n",
      "neu :  0.659\n",
      "\n",
      "pos :  0.341\n",
      "\n",
      "compound :  0.6908\n",
      "\n",
      "In presenting this work it is with a feeling of restitution.\n",
      "neg :  0.0\n",
      "\n",
      "neu :  0.857\n",
      "\n",
      "pos :  0.143\n",
      "\n",
      "compound :  0.128\n",
      "\n",
      "If I have\r\n",
      "digressed from, or stormed the barricaded citadel of formal literature,\r\n",
      "I have done so without hesitation, simply complying with an obeisance\r\n",
      "to civility toward my fellow men.\n",
      "neg :  0.0\n",
      "\n",
      "neu :  0.928\n",
      "\n",
      "pos :  0.072\n",
      "\n",
      "compound :  0.2715\n",
      "\n",
      "I have pictured life as a man of the\r\n",
      "world is sometimes forced to see it, and not altogether as angels would\r\n",
      "transcribe it.\n",
      "neg :  0.125\n",
      "\n",
      "neu :  0.875\n",
      "\n",
      "pos :  0.0\n",
      "\n",
      "compound :  -0.4588\n",
      "\n",
      "If the manner in which the subjects are hereinafter treated and woven\r\n",
      "into stories, meets the approval of the public, the work will have served\r\n",
      "to indicate the power and simplicity of truth.—THE AUTHOR.\n",
      "neg :  0.0\n",
      "\n",
      "neu :  0.914\n",
      "\n",
      "pos :  0.086\n",
      "\n",
      "compound :  0.4767\n",
      "\n",
      "“All truth is precious, if not divine,\r\n",
      "    And what dilates the pow’rs must needs refine.”\r\n",
      "\r\n",
      "\r\n",
      "\r\n",
      "\r\n",
      "INTRODUCTION.\n",
      "neg :  0.133\n",
      "\n",
      "neu :  0.593\n",
      "\n",
      "pos :  0.274\n",
      "\n",
      "compound :  0.4724\n",
      "\n",
      "“Without women, the beginning of our life would be helpless; the middle,\r\n",
      "devoid of pleasure, and the end of consolation.”\r\n",
      "\r\n",
      "                                “The very first\r\n",
      "    Of human life must spring from woman’s breast,\r\n",
      "    Your first small words are taught you from her lips,\r\n",
      "    Your first tears quench’d by her, and your last sighs\r\n",
      "    Too often breathed out in a woman’s hearing,\r\n",
      "    When men have shrunk from the ignoble care\r\n",
      "    Of watching the last hour of him who led them.”\r\n",
      "\r\n",
      "In London alone there are eighty thousand fallen women, and, while the\r\n",
      "number is infinitely smaller in Chicago, they all have a history, an\r\n",
      "excuse to offer, and a tale to tell.\n",
      "neg :  0.08\n",
      "\n",
      "neu :  0.838\n",
      "\n",
      "pos :  0.081\n",
      "\n",
      "compound :  0.0258\n",
      "\n",
      "We have resided upon this terrestrial sphere just long enough to know\r\n",
      "that the reformation of a fallen woman rivals the labors of Hercules.\n",
      "neg :  0.102\n",
      "\n",
      "neu :  0.898\n",
      "\n",
      "pos :  0.0\n",
      "\n",
      "compound :  -0.3612\n",
      "\n",
      "All\r\n",
      "men have a physical nature and must meet people who appeal to it.\n",
      "neg :  0.0\n",
      "\n",
      "neu :  1.0\n",
      "\n",
      "pos :  0.0\n",
      "\n",
      "compound :  0.0\n",
      "\n",
      "The conditions are such that there has arisen in society, a figure that\r\n",
      "is certainly the most mournful, and, in some respects, the most awful,\r\n",
      "upon which the eye of the moralist can dwell.\n",
      "neg :  0.153\n",
      "\n",
      "neu :  0.693\n",
      "\n",
      "pos :  0.154\n",
      "\n",
      "compound :  -0.2467\n",
      "\n",
      "That unhappy being, whose\r\n",
      "very name it is a shame to speak; who counterfeits, with a cold heart,\r\n",
      "the transports of affection and submits herself as the passive instrument\r\n",
      "of lust; who is scorned and insulted as the vilest of her sex, and\r\n",
      "doomed, for the most part, to disease and abject wretchedness of men,\r\n",
      "then death.\n",
      "neg :  0.245\n",
      "\n",
      "neu :  0.681\n",
      "\n",
      "pos :  0.074\n",
      "\n",
      "compound :  -0.9201\n",
      "\n",
      "Who will pity her?\n",
      "neg :  0.423\n",
      "\n",
      "neu :  0.577\n",
      "\n",
      "pos :  0.0\n",
      "\n",
      "compound :  -0.296\n",
      "\n",
      "A poor unknown, who shall be lowered into a grave of\r\n",
      "cold clay (and possibly in the potter’s field), among slimy, creeping\r\n",
      "things that feed on foul air and putrid masses.\n",
      "neg :  0.217\n",
      "\n",
      "neu :  0.783\n",
      "\n",
      "pos :  0.0\n",
      "\n",
      "compound :  -0.7351\n",
      "\n",
      "Not even a slab to say,\r\n",
      "“Here lies.”\r\n",
      "\r\n",
      "With dreamy eyes and rum dulled brain, her companions take in the scene\r\n",
      "without warning.\n",
      "neg :  0.102\n",
      "\n",
      "neu :  0.815\n",
      "\n",
      "pos :  0.083\n",
      "\n",
      "compound :  -0.119\n",
      "\n",
      "They shrink not from the horrors of the charnel house or\r\n",
      "the maggot filled grave; sin fascinates them as the cursed death giving\r\n",
      "flame does the foolish moth.\n",
      "neg :  0.293\n",
      "\n",
      "neu :  0.505\n",
      "\n",
      "pos :  0.202\n",
      "\n",
      "compound :  -0.5862\n",
      "\n",
      "They continue to cultivate avarice, defy all\r\n",
      "laws of nature and modesty, all rules of etiquette, and break down all\r\n",
      "barriers which ordinarily defend pure womanhood.\n",
      "neg :  0.0\n",
      "\n",
      "neu :  1.0\n",
      "\n",
      "pos :  0.0\n",
      "\n",
      "compound :  0.0\n",
      "\n",
      "“She is a rag and a bone and a hank of hair.”\r\n",
      "\r\n",
      "Women of this class feel that they are social outcasts, that their sins\r\n",
      "are as scarlet; they believe that they are past reform.\n",
      "neg :  0.088\n",
      "\n",
      "neu :  0.912\n",
      "\n",
      "pos :  0.0\n",
      "\n",
      "compound :  -0.4588\n",
      "\n",
      "Herself, the supreme type of vice, she is usually the most efficient\r\n",
      "guardian of virtue.\n",
      "neg :  0.0\n",
      "\n",
      "neu :  0.558\n",
      "\n",
      "pos :  0.442\n",
      "\n",
      "compound :  0.8588\n",
      "\n",
      "But for her, the unchallenged purity of countless\r\n",
      "homes would be polluted, and not a few, who, in the pride of their\r\n",
      "untested chastity, think of her with an indignant shudder, would have\r\n",
      "known the agony of remorse and despair.\n",
      "neg :  0.32\n",
      "\n",
      "neu :  0.621\n",
      "\n",
      "pos :  0.058\n",
      "\n",
      "compound :  -0.9313\n",
      "\n",
      "On that one degraded and ignoble form are concentrated the passions that\r\n",
      "might have filled the world with shame.\n",
      "neg :  0.235\n",
      "\n",
      "neu :  0.637\n",
      "\n",
      "pos :  0.127\n",
      "\n",
      "compound :  -0.4019\n",
      "\n",
      "She remains while creeds and civilization rise and fall, the eternal\r\n",
      "priestess of humanity, blasted for the sins of the world.\n",
      "neg :  0.13\n",
      "\n",
      "neu :  0.87\n",
      "\n",
      "pos :  0.0\n",
      "\n",
      "compound :  -0.4588\n",
      "\n",
      "It is not our intention to perorate and dissertate on a theory calculated\r\n",
      "to turn the world into a miniature heaven, for we don’t believe for the\r\n",
      "fractional part of a moment that a general reformation of the fallen is\r\n",
      "practicable or possible.\n",
      "neg :  0.058\n",
      "\n",
      "neu :  0.864\n",
      "\n",
      "pos :  0.077\n",
      "\n",
      "compound :  0.2023\n",
      "\n",
      "It is not unusual that the men who deplore so\r\n",
      "loudly the existence of soiled doves are the very men who are responsible\r\n",
      "for their existence.\n",
      "neg :  0.0\n",
      "\n",
      "neu :  0.916\n",
      "\n",
      "pos :  0.084\n",
      "\n",
      "compound :  0.3182\n",
      "\n",
      "The only practicable solution that we may be tempted to offer, would be\r\n",
      "for society to brand the men with the stigma of its contempt, the same as\r\n",
      "it does the women, when he sinks himself below her level in an attempt to\r\n",
      "pervert her purity.\n",
      "neg :  0.135\n",
      "\n",
      "neu :  0.821\n",
      "\n",
      "pos :  0.044\n",
      "\n",
      "compound :  -0.7003\n",
      "\n",
      "If the immoral men were ostracized from polite society with the same\r\n",
      "despatch that a weak woman is, society would be composed almost entirely\r\n",
      "of women.\n",
      "neg :  0.204\n",
      "\n",
      "neu :  0.796\n",
      "\n",
      "pos :  0.0\n",
      "\n",
      "compound :  -0.7096\n",
      "\n",
      "The world’s fallen women are divided into two classes:\r\n",
      "\r\n",
      "The woman whose nature is depraved, who is too coarse to realize or heed\r\n",
      "the depth of her own infamy, and the woman whose circumstances have\r\n",
      "forced her to a life of shame.\n",
      "neg :  0.185\n",
      "\n",
      "neu :  0.815\n",
      "\n",
      "pos :  0.0\n",
      "\n",
      "compound :  -0.8225\n",
      "\n",
      "Of the former, it is useless to take heed\r\n",
      "for she understands nothing outside of her own dep"
     ]
    },
    {
     "data": {
      "text/html": [
       "<b>limit_output extension: Maximum message size of 10000 exceeded with 25306 characters</b>"
      ]
     },
     "metadata": {},
     "output_type": "display_data"
    }
   ],
   "source": [
    "#Aplico l'anàlisis a cada una de les frases que hem fet abans amb el tokenitzador per frases\n",
    "for sentence in tokenFrase:\n",
    "    print(sentence)\n",
    "    scores = analitzador.polarity_scores(sentence)\n",
    "    for key in scores:\n",
    "        print(key, ': ', scores[key])\n",
    "        print()\n",
    "        "
   ]
  },
  {
   "cell_type": "markdown",
   "id": "ba69aa70",
   "metadata": {},
   "source": [
    "Per cada frase obtenim 3 puntuacions diferents:\n",
    "- neg (negatiu): valor entre 0 i 1 que ens indica la negativitat de la frase\n",
    "- neu (neutral): valor entre 0 i 1 que ens indica la neutralitat de la frase\n",
    "- pos (positiu): valor entre 0 i 1 que ens indica la positivitat de la frase\n",
    "\n",
    "compound:valor de -1 a 1 que ens indica la positivitat o negativitat de la frase, com més a prop de -1 més negatiu, a prop de 0 indica neutralitat, a prop de 1 indica positivisme.\n"
   ]
  }
 ],
 "metadata": {
  "hide_input": false,
  "kernelspec": {
   "display_name": "Python 3 (ipykernel)",
   "language": "python",
   "name": "python3"
  },
  "language_info": {
   "codemirror_mode": {
    "name": "ipython",
    "version": 3
   },
   "file_extension": ".py",
   "mimetype": "text/x-python",
   "name": "python",
   "nbconvert_exporter": "python",
   "pygments_lexer": "ipython3",
   "version": "3.9.7"
  },
  "latex_envs": {
   "LaTeX_envs_menu_present": true,
   "autoclose": false,
   "autocomplete": true,
   "bibliofile": "biblio.bib",
   "cite_by": "apalike",
   "current_citInitial": 1,
   "eqLabelWithNumbers": true,
   "eqNumInitial": 1,
   "hotkeys": {
    "equation": "Ctrl-E",
    "itemize": "Ctrl-I"
   },
   "labels_anchors": false,
   "latex_user_defs": false,
   "report_style_numbering": false,
   "user_envs_cfg": false
  },
  "toc": {
   "base_numbering": 1,
   "nav_menu": {},
   "number_sections": true,
   "sideBar": true,
   "skip_h1_title": false,
   "title_cell": "Table of Contents",
   "title_sidebar": "Contents",
   "toc_cell": false,
   "toc_position": {},
   "toc_section_display": true,
   "toc_window_display": false
  },
  "varInspector": {
   "cols": {
    "lenName": 16,
    "lenType": 16,
    "lenVar": 40
   },
   "kernels_config": {
    "python": {
     "delete_cmd_postfix": "",
     "delete_cmd_prefix": "del ",
     "library": "var_list.py",
     "varRefreshCmd": "print(var_dic_list())"
    },
    "r": {
     "delete_cmd_postfix": ") ",
     "delete_cmd_prefix": "rm(",
     "library": "var_list.r",
     "varRefreshCmd": "cat(var_dic_list()) "
    }
   },
   "types_to_exclude": [
    "module",
    "function",
    "builtin_function_or_method",
    "instance",
    "_Feature"
   ],
   "window_display": false
  }
 },
 "nbformat": 4,
 "nbformat_minor": 5
}
